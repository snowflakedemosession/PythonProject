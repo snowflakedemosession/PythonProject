{
 "cells": [
  {
   "cell_type": "code",
   "execution_count": null,
   "id": "d34d97bf",
   "metadata": {},
   "outputs": [],
   "source": [
    "Dict -- {}\n",
    "\n",
    "it is collection item  -- item Key:value pair\n",
    "    key :  immutable DS\n",
    "    value : mutable or immutable        \n",
    "    it is mutable type\n",
    "    \n",
    "    \n",
    "    \n",
    "    "
   ]
  },
  {
   "cell_type": "code",
   "execution_count": 3,
   "id": "69c50f0c",
   "metadata": {},
   "outputs": [],
   "source": [
    "d = {'name':'test','id':101,'city':'pune',32:345435}"
   ]
  },
  {
   "cell_type": "code",
   "execution_count": 4,
   "id": "583e9e31",
   "metadata": {},
   "outputs": [
    {
     "data": {
      "text/plain": [
       "{'name': 'test', 'id': 101, 'city': 'pune', 32: 345435}"
      ]
     },
     "execution_count": 4,
     "metadata": {},
     "output_type": "execute_result"
    }
   ],
   "source": [
    "d"
   ]
  },
  {
   "cell_type": "code",
   "execution_count": null,
   "id": "e630015f",
   "metadata": {},
   "outputs": [],
   "source": [
    "{key:value}\n",
    "\n",
    "\n",
    "key : str,int,tuple\n",
    "    \n",
    "    "
   ]
  },
  {
   "cell_type": "code",
   "execution_count": 5,
   "id": "7cdaf003",
   "metadata": {},
   "outputs": [],
   "source": [
    "per_details = {'name':'Keshav','city':'Pune','Sal':75000}"
   ]
  },
  {
   "cell_type": "code",
   "execution_count": 6,
   "id": "8c8ebde0",
   "metadata": {},
   "outputs": [
    {
     "data": {
      "text/plain": [
       "dict"
      ]
     },
     "execution_count": 6,
     "metadata": {},
     "output_type": "execute_result"
    }
   ],
   "source": [
    "type(per_details)"
   ]
  },
  {
   "cell_type": "code",
   "execution_count": null,
   "id": "abdfe3e6",
   "metadata": {},
   "outputs": [],
   "source": [
    "single -- item"
   ]
  },
  {
   "cell_type": "code",
   "execution_count": 7,
   "id": "4cdd8f81",
   "metadata": {},
   "outputs": [],
   "source": [
    "per_details['id'] = 101"
   ]
  },
  {
   "cell_type": "code",
   "execution_count": 8,
   "id": "fd44aeba",
   "metadata": {},
   "outputs": [
    {
     "data": {
      "text/plain": [
       "{'name': 'Keshav', 'city': 'Pune', 'Sal': 75000, 'id': 101}"
      ]
     },
     "execution_count": 8,
     "metadata": {},
     "output_type": "execute_result"
    }
   ],
   "source": [
    "per_details"
   ]
  },
  {
   "cell_type": "code",
   "execution_count": 9,
   "id": "edcc8160",
   "metadata": {},
   "outputs": [],
   "source": [
    "per_details['dept'] = 'IT'"
   ]
  },
  {
   "cell_type": "code",
   "execution_count": 10,
   "id": "3ee83bc3",
   "metadata": {},
   "outputs": [
    {
     "data": {
      "text/plain": [
       "{'name': 'Keshav', 'city': 'Pune', 'Sal': 75000, 'id': 101, 'dept': 'IT'}"
      ]
     },
     "execution_count": 10,
     "metadata": {},
     "output_type": "execute_result"
    }
   ],
   "source": [
    "per_details"
   ]
  },
  {
   "cell_type": "code",
   "execution_count": 11,
   "id": "8b806611",
   "metadata": {},
   "outputs": [
    {
     "data": {
      "text/plain": [
       "75000"
      ]
     },
     "execution_count": 11,
     "metadata": {},
     "output_type": "execute_result"
    }
   ],
   "source": [
    "per_details['Sal']"
   ]
  },
  {
   "cell_type": "code",
   "execution_count": 12,
   "id": "81cbcebe",
   "metadata": {},
   "outputs": [],
   "source": [
    "per_details.update({'a':100,'b':200,'c':300})"
   ]
  },
  {
   "cell_type": "code",
   "execution_count": 13,
   "id": "87175411",
   "metadata": {},
   "outputs": [
    {
     "data": {
      "text/plain": [
       "{'name': 'Keshav',\n",
       " 'city': 'Pune',\n",
       " 'Sal': 75000,\n",
       " 'id': 101,\n",
       " 'dept': 'IT',\n",
       " 'a': 100,\n",
       " 'b': 200,\n",
       " 'c': 300}"
      ]
     },
     "execution_count": 13,
     "metadata": {},
     "output_type": "execute_result"
    }
   ],
   "source": [
    "per_details"
   ]
  },
  {
   "cell_type": "code",
   "execution_count": null,
   "id": "5dbaacd5",
   "metadata": {},
   "outputs": [],
   "source": [
    "dictname['newkey'] = newvalue\n",
    "\n",
    "dictname.update(dict) --- multiple key:value added"
   ]
  },
  {
   "cell_type": "code",
   "execution_count": null,
   "id": "f62abcfd",
   "metadata": {},
   "outputs": [],
   "source": [
    "dict  -->unorderd\n",
    "\n",
    "collection --OrderedDict"
   ]
  },
  {
   "cell_type": "code",
   "execution_count": null,
   "id": "923b2032",
   "metadata": {},
   "outputs": [],
   "source": []
  },
  {
   "cell_type": "code",
   "execution_count": null,
   "id": "dca3e183",
   "metadata": {},
   "outputs": [],
   "source": []
  },
  {
   "cell_type": "code",
   "execution_count": null,
   "id": "5ce67cf4",
   "metadata": {},
   "outputs": [],
   "source": []
  },
  {
   "cell_type": "code",
   "execution_count": null,
   "id": "114c74f7",
   "metadata": {},
   "outputs": [],
   "source": []
  },
  {
   "cell_type": "code",
   "execution_count": null,
   "id": "f0100f4d",
   "metadata": {},
   "outputs": [],
   "source": []
  },
  {
   "cell_type": "code",
   "execution_count": null,
   "id": "cc4c2a8c",
   "metadata": {},
   "outputs": [],
   "source": []
  },
  {
   "cell_type": "code",
   "execution_count": null,
   "id": "af33e8b8",
   "metadata": {},
   "outputs": [],
   "source": []
  },
  {
   "cell_type": "code",
   "execution_count": null,
   "id": "23aa834b",
   "metadata": {},
   "outputs": [],
   "source": []
  },
  {
   "cell_type": "code",
   "execution_count": null,
   "id": "0c0157ac",
   "metadata": {},
   "outputs": [],
   "source": []
  },
  {
   "cell_type": "code",
   "execution_count": null,
   "id": "a22ee770",
   "metadata": {},
   "outputs": [],
   "source": []
  }
 ],
 "metadata": {
  "kernelspec": {
   "display_name": "Python 3 (ipykernel)",
   "language": "python",
   "name": "python3"
  },
  "language_info": {
   "codemirror_mode": {
    "name": "ipython",
    "version": 3
   },
   "file_extension": ".py",
   "mimetype": "text/x-python",
   "name": "python",
   "nbconvert_exporter": "python",
   "pygments_lexer": "ipython3",
   "version": "3.9.12"
  }
 },
 "nbformat": 4,
 "nbformat_minor": 5
}
